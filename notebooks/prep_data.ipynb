{
 "cells": [
  {
   "cell_type": "code",
   "execution_count": null,
   "metadata": {},
   "outputs": [],
   "source": [
    "import pandas as pd\n",
    "import json\n",
    "import numpy as np"
   ]
  },
  {
   "cell_type": "code",
   "execution_count": null,
   "metadata": {},
   "outputs": [],
   "source": [
    "with open('../data/event_history.json') as fin:\n",
    "    raw = json.loads(fin.read())"
   ]
  },
  {
   "cell_type": "code",
   "execution_count": null,
   "metadata": {},
   "outputs": [],
   "source": [
    "raw.keys()"
   ]
  },
  {
   "cell_type": "code",
   "execution_count": null,
   "metadata": {},
   "outputs": [],
   "source": [
    "data = pd.DataFrame.from_dict(raw['Records'])"
   ]
  },
  {
   "cell_type": "code",
   "execution_count": null,
   "metadata": {},
   "outputs": [],
   "source": [
    "data.shape"
   ]
  },
  {
   "cell_type": "code",
   "execution_count": null,
   "metadata": {},
   "outputs": [],
   "source": [
    "data.head()"
   ]
  },
  {
   "cell_type": "code",
   "execution_count": null,
   "metadata": {},
   "outputs": [],
   "source": [
    "data['userIdentity'].iloc[0]"
   ]
  },
  {
   "cell_type": "code",
   "execution_count": null,
   "metadata": {},
   "outputs": [],
   "source": [
    "def parse_node_from_user_identity(user_identity):\n",
    "    try:\n",
    "        typ = user_identity['type']\n",
    "\n",
    "        if typ == 'AssumedRole':\n",
    "            principal = user_identity['principalId']\n",
    "            id_arn = user_identity['sessionContext']['sessionIssuer']['arn']\n",
    "#             return edge_type, (principal, id_arn)\n",
    "            return principal, typ\n",
    "\n",
    "        elif typ == 'AWSService':\n",
    "            invoke = user_identity['invokedBy']\n",
    "#             return edge_type, invoke\n",
    "            return invoke, typ\n",
    "\n",
    "        elif typ == 'AWSAccount':\n",
    "            invoke = user_identity['invokedBy']\n",
    "            principal = user_identity['principalId']\n",
    "#             return edge_type, (principal, invoke)\n",
    "            return principal, typ\n",
    "            \n",
    "    except Exception as e:\n",
    "        print(e)\n",
    "        invoke = user_identity['invokedBy']\n",
    "        return 'Account', invoke\n",
    "    return None, None"
   ]
  },
  {
   "cell_type": "code",
   "execution_count": null,
   "metadata": {},
   "outputs": [],
   "source": [
    "def parse_node_from_request_parameter(request):\n",
    "    try:\n",
    "        arns = [str(request[k]) for k in request.keys() if 'arn' in k.lower()]\n",
    "        return arns\n",
    "    except Exception as e:\n",
    "#         print(e)\n",
    "        return None\n",
    "    "
   ]
  },
  {
   "cell_type": "code",
   "execution_count": null,
   "metadata": {
    "scrolled": true
   },
   "outputs": [],
   "source": [
    "data['p_request'] = data['requestParameters'].apply(lambda x: parse_node_from_request_parameter(x))\n",
    "data[data['p_request'].notna()][\n",
    "    data[data['p_request'].notna()]['p_request'].apply(lambda x: len(x) > 1)\n",
    "]['p_request'].iloc[0]"
   ]
  },
  {
   "cell_type": "code",
   "execution_count": null,
   "metadata": {},
   "outputs": [],
   "source": [
    "data['requestParameters']"
   ]
  },
  {
   "cell_type": "code",
   "execution_count": null,
   "metadata": {},
   "outputs": [],
   "source": [
    "data['p_identity'] = data['userIdentity'].apply(lambda x: parse_node_from_user_identity(x))\n",
    "data[data['p_identity'].isna()]"
   ]
  },
  {
   "cell_type": "code",
   "execution_count": null,
   "metadata": {},
   "outputs": [],
   "source": [
    "col_idx_map = dict(zip(data.columns.values, range(len(data.columns.values))))\n",
    "col_idx_map"
   ]
  },
  {
   "cell_type": "code",
   "execution_count": null,
   "metadata": {},
   "outputs": [],
   "source": [
    "def parse_edge_from_action(row):\n",
    "    eventTime = row[col_idx_map['eventTime']]\n",
    "    \n",
    "    dst_type = row[col_idx_map['eventSource']]\n",
    "    \n",
    "    dst = row[col_idx_map['p_request']]\n",
    "    if dst is not None and len(dst) > 0:\n",
    "        dst = dst[0]\n",
    "    else:\n",
    "        dst = dst_type\n",
    "\n",
    "    edge_type = row[col_idx_map['eventName']]\n",
    "    \n",
    "    src, src_type = row[col_idx_map['p_identity']]\n",
    "    \n",
    "    return (eventTime, src, src_type, dst, dst_type, edge_type)\n",
    "    "
   ]
  },
  {
   "cell_type": "code",
   "execution_count": null,
   "metadata": {},
   "outputs": [],
   "source": [
    "data.loc[2]"
   ]
  },
  {
   "cell_type": "code",
   "execution_count": null,
   "metadata": {},
   "outputs": [],
   "source": [
    "data['edges'] = data.apply(lambda x: parse_edge_from_action(x), axis=1)"
   ]
  },
  {
   "cell_type": "code",
   "execution_count": null,
   "metadata": {},
   "outputs": [],
   "source": [
    "edge_df = pd.DataFrame(data['edges'].values.tolist(), columns=['timestamp','src', 'src_type', 'dst', 'dst_type', 'edge_type'])\n",
    "\n",
    "edge_df"
   ]
  },
  {
   "cell_type": "code",
   "execution_count": null,
   "metadata": {
    "scrolled": true
   },
   "outputs": [],
   "source": [
    "# def get_alphabets():\n",
    "#     lo_offset = 97\n",
    "#     al = []\n",
    "#     for i in range(10):\n",
    "#         al.append(i)\n",
    "        \n",
    "#     for i in range(26):\n",
    "# #         print(f\"{i+lo_offset}, {chr(i+lo_offset)}\")\n",
    "#         al.append(chr(i+lo_offset))\n",
    "#     ca_offset = 65\n",
    "#     for i in range(26):\n",
    "# #         print(f\"{i+ca_offset}, {chr(i+ca_offset)}\")\n",
    "#         al.append(chr(i+ca_offset))\n",
    "#     return al\n",
    "# get_alphabets()"
   ]
  },
  {
   "cell_type": "code",
   "execution_count": null,
   "metadata": {},
   "outputs": [],
   "source": [
    "def encode_edge_info(df):\n",
    "#     al = get_alphabets()\n",
    "    unique_nodes = np.unique(np.concatenate([df['src'].unique(), \n",
    "#                 df['src_type'].unique(),\n",
    "                df['dst'].unique()\n",
    "#                 df['dst_type'].unique()\n",
    "               ]))\n",
    "\n",
    "    unique_types = np.unique(np.concatenate([df['edge_type'].unique(), \n",
    "                df['src_type'].unique(),\n",
    "                df['dst_type'].unique()\n",
    "               ]))\n",
    "    node_2_id = {res:idx for idx,res in enumerate(unique_nodes)}\n",
    "    id_2_node = {idx:res for idx,res in enumerate(unique_nodes)}\n",
    "    \n",
    "    type_2_id = {res:str(hex(idx))[2:] for idx,res in enumerate(unique_types)}\n",
    "    id_2_type = {str(hex(idx))[2:]:res for idx,res in enumerate(unique_types)}\n",
    "    \n",
    "    return node_2_id, id_2_node, type_2_id, id_2_type\n",
    "    "
   ]
  },
  {
   "cell_type": "code",
   "execution_count": null,
   "metadata": {
    "scrolled": true
   },
   "outputs": [],
   "source": [
    "node_2_id, id_2_node, type_2_id, id_2_type = encode_edge_info(edge_df)"
   ]
  },
  {
   "cell_type": "code",
   "execution_count": null,
   "metadata": {},
   "outputs": [],
   "source": [
    "node_2_id"
   ]
  },
  {
   "cell_type": "code",
   "execution_count": null,
   "metadata": {},
   "outputs": [],
   "source": [
    "id_2_type"
   ]
  },
  {
   "cell_type": "code",
   "execution_count": null,
   "metadata": {},
   "outputs": [],
   "source": [
    "def convert_encoded_edges(row):\n",
    "    timestamp = row[0]\n",
    "    src = row[1]\n",
    "    src_type = row[2]\n",
    "    dst = row[3]\n",
    "    dst_type = row[4]\n",
    "    edge_type = row[5]\n",
    "    \n",
    "    return (timestamp,\n",
    "            node_2_id[src],\n",
    "            type_2_id[src_type],\n",
    "            \n",
    "            node_2_id[dst],\n",
    "            type_2_id[dst_type],\n",
    "            \n",
    "            type_2_id[edge_type])\n",
    "    \n",
    "    \n",
    "    \n",
    "edge_df.apply(lambda x:convert_encoded_edges(x), axis=1)"
   ]
  },
  {
   "cell_type": "code",
   "execution_count": null,
   "metadata": {},
   "outputs": [],
   "source": [
    "encoded_df = pd.DataFrame.from_records(edge_df.apply(lambda x:convert_encoded_edges(x), axis=1), \n",
    "                                      columns=['timestamp', 'src', 'src_type', 'dst', 'dst_type', 'edge_type']\n",
    "                                      )\n",
    "encoded_df"
   ]
  },
  {
   "cell_type": "code",
   "execution_count": null,
   "metadata": {},
   "outputs": [],
   "source": [
    "encoded_df.to_csv('../data/raw_edges.tsv', sep='\\t', index=False)"
   ]
  },
  {
   "cell_type": "code",
   "execution_count": null,
   "metadata": {},
   "outputs": [],
   "source": [
    "# edge_df.loc[7943].dst"
   ]
  },
  {
   "cell_type": "code",
   "execution_count": null,
   "metadata": {
    "scrolled": true
   },
   "outputs": [],
   "source": [
    "# for idx, i in enumerate(edge_df['dst'].values):\n",
    "#     t = str(type(i))\n",
    "#     if t != \"<class 'str'>\":\n",
    "#         print(idx, t)"
   ]
  },
  {
   "cell_type": "code",
   "execution_count": null,
   "metadata": {},
   "outputs": [],
   "source": [
    "# [edge_df[col].unique() for col in edge_df.columns]"
   ]
  },
  {
   "cell_type": "code",
   "execution_count": null,
   "metadata": {},
   "outputs": [],
   "source": []
  },
  {
   "cell_type": "code",
   "execution_count": null,
   "metadata": {},
   "outputs": [],
   "source": []
  },
  {
   "cell_type": "markdown",
   "metadata": {},
   "source": [
    "### GID (Treat each user is different graph for each minute)"
   ]
  },
  {
   "cell_type": "code",
   "execution_count": null,
   "metadata": {},
   "outputs": [],
   "source": [
    "encoded_df['graph_id'] = encoded_df['src'] \n",
    "encoded_df"
   ]
  },
  {
   "cell_type": "code",
   "execution_count": null,
   "metadata": {},
   "outputs": [],
   "source": [
    "encoded_df.drop('timestamp', axis=1).to_csv('../data/data_edges.tsv', sep='\\t', index=False, index_label=False, header=False)"
   ]
  },
  {
   "cell_type": "code",
   "execution_count": null,
   "metadata": {},
   "outputs": [],
   "source": [
    "encoded_df.dst.max()"
   ]
  },
  {
   "cell_type": "code",
   "execution_count": null,
   "metadata": {},
   "outputs": [],
   "source": [
    "encoded_df[encoded_df.src==47]"
   ]
  },
  {
   "cell_type": "code",
   "execution_count": null,
   "metadata": {},
   "outputs": [],
   "source": [
    "# encoded_df[encoded_df.graph_id.isin([71, 72, 47, 46])].groupby('graph_id').head(10)\n",
    "\n",
    "# sample_df = pd.concat(\n",
    "#     [encoded_df[~encoded_df.graph_id.isin([71, 72, 47, 46])],\n",
    "#     encoded_df[encoded_df.graph_id.isin([71, 72, 47, 46])].groupby('graph_id').head(10)]\n",
    "# )\n",
    "# sample_df"
   ]
  },
  {
   "cell_type": "code",
   "execution_count": null,
   "metadata": {},
   "outputs": [],
   "source": [
    "# sample_df.dtypes"
   ]
  },
  {
   "cell_type": "code",
   "execution_count": null,
   "metadata": {},
   "outputs": [],
   "source": [
    "# sample_df.drop('timestamp', axis=1).to_csv('../data/sample_edges.tsv', sep='\\t', index=False, index_label=False, header=False)"
   ]
  },
  {
   "cell_type": "code",
   "execution_count": null,
   "metadata": {},
   "outputs": [],
   "source": [
    "encoded_df['timestamp'] = pd.to_datetime(encoded_df.timestamp)"
   ]
  },
  {
   "cell_type": "code",
   "execution_count": null,
   "metadata": {},
   "outputs": [],
   "source": [
    "encoded_df['hm'] = encoded_df.timestamp.dt.strftime('%Y-%m-%d %H-%M')"
   ]
  },
  {
   "cell_type": "code",
   "execution_count": null,
   "metadata": {},
   "outputs": [],
   "source": [
    "sample_df = encoded_df.drop('timestamp', axis=1).drop_duplicates()\n",
    "sample_df"
   ]
  },
  {
   "cell_type": "code",
   "execution_count": null,
   "metadata": {},
   "outputs": [],
   "source": [
    "sample_df.drop(['hm'], axis=1).to_csv('../data/sample_edges.tsv', sep='\\t', index=False, index_label=False, header=False)"
   ]
  },
  {
   "cell_type": "code",
   "execution_count": null,
   "metadata": {},
   "outputs": [],
   "source": []
  },
  {
   "cell_type": "code",
   "execution_count": null,
   "metadata": {},
   "outputs": [],
   "source": [
    "sample_df[sample_df.src.isin([71,72,46,47])]"
   ]
  },
  {
   "cell_type": "code",
   "execution_count": null,
   "metadata": {},
   "outputs": [],
   "source": []
  },
  {
   "cell_type": "code",
   "execution_count": null,
   "metadata": {},
   "outputs": [],
   "source": []
  },
  {
   "cell_type": "code",
   "execution_count": null,
   "metadata": {},
   "outputs": [],
   "source": []
  },
  {
   "cell_type": "code",
   "execution_count": null,
   "metadata": {},
   "outputs": [],
   "source": []
  },
  {
   "cell_type": "code",
   "execution_count": null,
   "metadata": {},
   "outputs": [],
   "source": []
  },
  {
   "cell_type": "code",
   "execution_count": null,
   "metadata": {},
   "outputs": [],
   "source": []
  }
 ],
 "metadata": {
  "kernelspec": {
   "display_name": "Python 3",
   "language": "python",
   "name": "python3"
  },
  "language_info": {
   "codemirror_mode": {
    "name": "ipython",
    "version": 3
   },
   "file_extension": ".py",
   "mimetype": "text/x-python",
   "name": "python",
   "nbconvert_exporter": "python",
   "pygments_lexer": "ipython3",
   "version": "3.7.7"
  }
 },
 "nbformat": 4,
 "nbformat_minor": 4
}
