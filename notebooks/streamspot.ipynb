{
 "cells": [
  {
   "cell_type": "code",
   "execution_count": 1,
   "metadata": {},
   "outputs": [],
   "source": [
    "import pandas as pd"
   ]
  },
  {
   "cell_type": "code",
   "execution_count": 2,
   "metadata": {},
   "outputs": [],
   "source": [
    "edges = \"../data/sample_edges.tsv\"\n",
    "bootstrap = \"../data/custom_bootstrap.txt\"\n",
    "\n",
    "chunk_length=500\n",
    "num_parallel_graphs=10\n",
    "max_num_edges=100"
   ]
  },
  {
   "cell_type": "code",
   "execution_count": 6,
   "metadata": {},
   "outputs": [
    {
     "data": {
      "text/plain": [
       "({0: [71, 72], 1: [47, 46]}, [0.5, 0.5], 0.6)"
      ]
     },
     "execution_count": 6,
     "metadata": {},
     "output_type": "execute_result"
    }
   ],
   "source": [
    "from collections import defaultdict\n",
    "\n",
    "def read_bootstrap_clusters(bootstrap_file):\n",
    "    cluster_thresholds = []\n",
    "    clusters = {}\n",
    "    \n",
    "    with open(bootstrap_file, 'r') as fin:\n",
    "        lines = fin.readlines()\n",
    "        \n",
    "    for i, l in enumerate(lines):\n",
    "        data = l.split(' ')\n",
    "        if i == 0:\n",
    "            nclusters = int(data[0])\n",
    "            global_threshold = float(data[1])\n",
    "        else:\n",
    "            cluster_threshold = float(data[0])\n",
    "            cluster_thresholds.append(cluster_threshold)\n",
    "            clusters[i-1] = [int(c) for c in data[1:]]\n",
    "    \n",
    "    return clusters, cluster_thresholds, global_threshold\n",
    "            \n",
    "    \n",
    "read_bootstrap_clusters(bootstrap)"
   ]
  },
  {
   "cell_type": "code",
   "execution_count": null,
   "metadata": {},
   "outputs": [],
   "source": []
  }
 ],
 "metadata": {
  "kernelspec": {
   "display_name": "Python 3",
   "language": "python",
   "name": "python3"
  },
  "language_info": {
   "codemirror_mode": {
    "name": "ipython",
    "version": 3
   },
   "file_extension": ".py",
   "mimetype": "text/x-python",
   "name": "python",
   "nbconvert_exporter": "python",
   "pygments_lexer": "ipython3",
   "version": "3.7.7"
  }
 },
 "nbformat": 4,
 "nbformat_minor": 4
}
