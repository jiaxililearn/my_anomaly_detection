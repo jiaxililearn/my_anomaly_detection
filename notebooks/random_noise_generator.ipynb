{
 "cells": [
  {
   "cell_type": "code",
   "execution_count": 20,
   "metadata": {},
   "outputs": [],
   "source": [
    "import pandas as pd\n",
    "import random\n",
    "import math, os"
   ]
  },
  {
   "cell_type": "code",
   "execution_count": 21,
   "metadata": {
    "scrolled": true
   },
   "outputs": [
    {
     "name": "stdout",
     "output_type": "stream",
     "text": [
      "adding 1 attack graph to cluster\n",
      "adding 2 attack graph to cluster\n",
      "adding 1 attack graph to cluster\n",
      "adding 0 attack graph to cluster\n",
      "adding 1 attack graph to cluster\n",
      "adding 3 attack graph to cluster\n",
      "adding 1 attack graph to cluster\n",
      "adding 1 attack graph to cluster\n",
      "adding 1 attack graph to cluster\n",
      "adding 3 attack graph to cluster\n",
      "adding 1 attack graph to cluster\n",
      "skip empty cluster.\n"
     ]
    }
   ],
   "source": [
    "fpath = '/Users/jl102430/Documents/study/code_repo/my_anomaly_detection/baseline/streamspot-bootstrap-clusters/03-C50_k10_gfc.txt'\n",
    "\n",
    "noise_pct = 10\n",
    "clusters = []\n",
    "attach_gids = [i for i in range(300, 400)]\n",
    "\n",
    "with open(fpath, 'r') as fin:\n",
    "    line = fin.readline()\n",
    "    gline = list(filter(lambda x: len(x)>0, line.strip().split(' ')))\n",
    "    \n",
    "    while line:        \n",
    "        line = fin.readline()\n",
    "        cluster = list(filter(lambda x: len(x)>0, line.strip().split(' ')))\n",
    "        clusters.append(cluster)\n",
    "        \n",
    "for cluster in clusters:\n",
    "    cluster_size = len(cluster[1:])\n",
    "    \n",
    "    if cluster_size < 2: \n",
    "        print('skip empty cluster.')\n",
    "        continue\n",
    "    \n",
    "    num_attack = int((cluster_size * noise_pct) / 100)\n",
    "    print(f'adding {num_attack} attack graph to cluster')\n",
    "    \n",
    "    for _ in range(num_attack):\n",
    "        random.shuffle(attach_gids)\n",
    "        attack_g = attach_gids.pop()\n",
    "        cluster.append(str(attack_g))"
   ]
  },
  {
   "cell_type": "code",
   "execution_count": 28,
   "metadata": {},
   "outputs": [
    {
     "name": "stdout",
     "output_type": "stream",
     "text": [
      "new file path: /Users/jl102430/Documents/study/code_repo/my_anomaly_detection/baseline/streamspot-bootstrap-clusters/03-C50_k10_gfc_noise10.txt\n"
     ]
    }
   ],
   "source": [
    "original_fname = os.path.basename(fpath)\n",
    "new_fname = f\"{original_fname.split('.')[0]}_noise{noise_pct}.{original_fname.split('.')[1]}\"\n",
    "new_path = fpath.replace(original_fname, new_fname)\n",
    "print(f'new file path: {new_path}')"
   ]
  },
  {
   "cell_type": "code",
   "execution_count": 34,
   "metadata": {},
   "outputs": [],
   "source": [
    "with open(new_path, 'w') as fout:\n",
    "    fout.write('\\t'.join(gline))\n",
    "    fout.write('\\n')\n",
    "    for cluster in clusters:\n",
    "        fout.write('\\t'.join(cluster))\n",
    "        fout.write('\\n')\n",
    "print('wrote noise!')"
   ]
  },
  {
   "cell_type": "code",
   "execution_count": null,
   "metadata": {},
   "outputs": [],
   "source": []
  }
 ],
 "metadata": {
  "kernelspec": {
   "display_name": "Python 3",
   "language": "python",
   "name": "python3"
  },
  "language_info": {
   "codemirror_mode": {
    "name": "ipython",
    "version": 3
   },
   "file_extension": ".py",
   "mimetype": "text/x-python",
   "name": "python",
   "nbconvert_exporter": "python",
   "pygments_lexer": "ipython3",
   "version": "3.7.7"
  }
 },
 "nbformat": 4,
 "nbformat_minor": 4
}
